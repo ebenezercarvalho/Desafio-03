{
 "cells": [
  {
   "cell_type": "markdown",
   "metadata": {},
   "source": [
    "# Fase 1: Limpeza e Pré-processamento dos Dados\n",
    "\n",
    "Este notebook executa a primeira fase do projeto de previsão de churn: a limpeza e o pré-processamento dos dados. As seguintes etapas serão realizadas:\n",
    "\n",
    "1.  **Carregamento dos Dados**: Importação das bibliotecas e leitura do arquivo CSV.\n",
    "2.  **Tratamento da Variável Alvo (`Churn`)**: Remoção de registros onde a variável alvo é nula.\n",
    "3.  **Correção de Tipos e Tratamento de Nulos (`Charges.Total`)**: Conversão da coluna para o tipo numérico e tratamento inteligente dos valores ausentes.\n",
    "4.  **Validação da Consistência dos Dados**: Verificação de regras de negócio entre as colunas de serviços.\n",
    "5.  **Salvamento dos Dados Limpos**: Exportação do DataFrame processado para um novo arquivo CSV."
   ]
  },
  {
   "cell_type": "code",
   "execution_count": 1,
   "metadata": {},
   "outputs": [],
   "source": [
    "import pandas as pd\n",
    "import numpy as np\n",
    "\n",
    "# Desabilitar warnings para uma saída mais limpa (opcional)\n",
    "import warnings\n",
    "warnings.filterwarnings('ignore')"
   ]
  },
  {
   "cell_type": "markdown",
   "metadata": {},
   "source": [
    "### 1. Carregamento dos Dados"
   ]
  },
  {
   "cell_type": "code",
   "execution_count": 2,
   "metadata": {},
   "outputs": [
    {
     "name": "stdout",
     "output_type": "stream",
     "text": [
      "Dimensões Originais do Dataset: (7267, 21)\n",
      "\n",
      "Informações Iniciais:\n",
      "<class 'pandas.core.frame.DataFrame'>\n",
      "RangeIndex: 7267 entries, 0 to 7266\n",
      "Data columns (total 21 columns):\n",
      " #   Column            Non-Null Count  Dtype  \n",
      "---  ------            --------------  -----  \n",
      " 0   customerID        7267 non-null   object \n",
      " 1   Churn             7043 non-null   object \n",
      " 2   gender            7267 non-null   object \n",
      " 3   SeniorCitizen     7267 non-null   int64  \n",
      " 4   Partner           7267 non-null   object \n",
      " 5   Dependents        7267 non-null   object \n",
      " 6   tenure            7267 non-null   int64  \n",
      " 7   PhoneService      7267 non-null   object \n",
      " 8   MultipleLines     7267 non-null   object \n",
      " 9   InternetService   7267 non-null   object \n",
      " 10  OnlineSecurity    7267 non-null   object \n",
      " 11  OnlineBackup      7267 non-null   object \n",
      " 12  DeviceProtection  7267 non-null   object \n",
      " 13  TechSupport       7267 non-null   object \n",
      " 14  StreamingTV       7267 non-null   object \n",
      " 15  StreamingMovies   7267 non-null   object \n",
      " 16  Contract          7267 non-null   object \n",
      " 17  PaperlessBilling  7267 non-null   object \n",
      " 18  PaymentMethod     7267 non-null   object \n",
      " 19  Charges.Monthly   7267 non-null   float64\n",
      " 20  Charges.Total     7267 non-null   object \n",
      "dtypes: float64(1), int64(2), object(18)\n",
      "memory usage: 1.2+ MB\n"
     ]
    }
   ],
   "source": [
    "# O caminho do arquivo foi fornecido no contexto.\n",
    "caminho_arquivo = r'E:\\Documentos\\Cursos\\Alura\\ONE\\Desafio-03\\telecom_x.csv'\n",
    "\n",
    "# Carregar o dataset\n",
    "df = pd.read_csv(caminho_arquivo)\n",
    "\n",
    "# Exibir as primeiras linhas e informações gerais\n",
    "print(\"Dimensões Originais do Dataset:\", df.shape)\n",
    "print(\"\\nInformações Iniciais:\")\n",
    "df.info()"
   ]
  },
  {
   "cell_type": "code",
   "execution_count": 9,
   "metadata": {},
   "outputs": [
    {
     "name": "stdout",
     "output_type": "stream",
     "text": [
      "Coluna 'customerID' removida com sucesso.\n",
      "Dimensões do DataFrame após a remoção: (7043, 20)\n"
     ]
    }
   ],
   "source": [
    "# Removendo a coluna de identificação do cliente, pois não possui valor preditivo.\n",
    "# O parâmetro errors='ignore' evita que o código falhe caso a célula seja executada mais de uma vez.\n",
    "df.drop(columns=['customerID'], axis=1, inplace=True, errors='ignore')\n",
    "\n",
    "print(\"Coluna 'customerID' removida com sucesso.\")\n",
    "print(f\"Dimensões do DataFrame após a remoção: {df.shape}\")"
   ]
  },
  {
   "cell_type": "markdown",
   "metadata": {},
   "source": [
    "### 2. Tratamento da Variável Alvo (`Churn`)\n",
    "\n",
    "A variável alvo é essencial para o treinamento de um modelo supervisionado. Registros com o valor de `Churn` ausente não podem ser utilizados e serão removidos."
   ]
  },
  {
   "cell_type": "code",
   "execution_count": 10,
   "metadata": {},
   "outputs": [
    {
     "name": "stdout",
     "output_type": "stream",
     "text": [
      "Quantidade de valores nulos em 'Churn' antes: 0\n",
      "Quantidade de valores nulos em 'Churn' depois: 0\n",
      "Novas dimensões do Dataset: (7043, 20)\n"
     ]
    }
   ],
   "source": [
    "print(f\"Quantidade de valores nulos em 'Churn' antes: {df['Churn'].isnull().sum()}\")\n",
    "\n",
    "# Remover linhas onde a coluna 'Churn' é nula\n",
    "df.dropna(subset=['Churn'], inplace=True)\n",
    "\n",
    "print(f\"Quantidade de valores nulos em 'Churn' depois: {df['Churn'].isnull().sum()}\")\n",
    "print(f\"Novas dimensões do Dataset: {df.shape}\")"
   ]
  },
  {
   "cell_type": "markdown",
   "metadata": {},
   "source": [
    "### 3. Correção de Tipos e Tratamento de Nulos (`Charges.Total`)\n",
    "\n",
    "A coluna `Charges.Total` frequentemente é carregada como `object` (texto) se contiver espaços ou outros caracteres não numéricos. O primeiro passo é convertê-la para um formato numérico, forçando os valores inválidos a se tornarem `NaN` (Not a Number)."
   ]
  },
  {
   "cell_type": "code",
   "execution_count": 11,
   "metadata": {},
   "outputs": [
    {
     "name": "stdout",
     "output_type": "stream",
     "text": [
      "Quantidade de valores nulos em 'Charges.Total' após conversão: 0\n"
     ]
    }
   ],
   "source": [
    "# Converter 'Charges.Total' para numérico. errors='coerce' transforma o que não for número em NaN.\n",
    "df['Charges.Total'] = pd.to_numeric(df['Charges.Total'], errors='coerce')\n",
    "\n",
    "# Verificar quantos valores nulos foram criados/encontrados\n",
    "nulos_total_charges = df['Charges.Total'].isnull().sum()\n",
    "print(f\"Quantidade de valores nulos em 'Charges.Total' após conversão: {nulos_total_charges}\")"
   ]
  },
  {
   "cell_type": "markdown",
   "metadata": {},
   "source": [
    "#### 3.1 Investigando a Causa dos Valores Nulos\n",
    "\n",
    "Antes de aplicar uma regra genérica de imputação, vamos investigar por que esses valores são nulos. A hipótese é que eles pertencem a clientes novos com `tenure` (tempo de contrato) igual a 0."
   ]
  },
  {
   "cell_type": "code",
   "execution_count": 12,
   "metadata": {},
   "outputs": [
    {
     "name": "stdout",
     "output_type": "stream",
     "text": [
      "Valores de 'tenure' para registros com 'Charges.Total' nulo:\n",
      "Series([], Name: count, dtype: int64)\n"
     ]
    }
   ],
   "source": [
    "# Filtrar o dataframe para ver os registros onde 'Charges.Total' é nulo\n",
    "registros_nulos = df[df['Charges.Total'].isnull()]\n",
    "\n",
    "print(\"Valores de 'tenure' para registros com 'Charges.Total' nulo:\")\n",
    "print(registros_nulos['tenure'].value_counts())"
   ]
  },
  {
   "cell_type": "markdown",
   "metadata": {},
   "source": [
    "#### 3.2 Imputação dos Valores Nulos\n",
    "\n",
    "A investigação confirma que todos os valores ausentes em `Charges.Total` correspondem a clientes com `tenure = 0`. Portanto, a imputação correta e que reflete a realidade do negócio é preencher esses valores com `0`.\n",
    "\n",
    "**Nota sobre a Regra de Imputação:** Embora a instrução geral fosse usar amostragem bootstrap para um grande número de nulos, neste caso específico, a investigação revelou uma causa raiz definida. A imputação com '0' é uma representação factual e mais precisa do que uma imputação estatística aleatória."
   ]
  },
  {
   "cell_type": "code",
   "execution_count": 13,
   "metadata": {},
   "outputs": [
    {
     "name": "stdout",
     "output_type": "stream",
     "text": [
      "Valores nulos em 'Charges.Total' após imputação: 0\n"
     ]
    }
   ],
   "source": [
    "# Preencher os valores nulos em 'Charges.Total' com 0\n",
    "df['Charges.Total'].fillna(0, inplace=True)\n",
    "\n",
    "print(f\"Valores nulos em 'Charges.Total' após imputação: {df['Charges.Total'].isnull().sum()}\")"
   ]
  },
  {
   "cell_type": "markdown",
   "metadata": {},
   "source": [
    "### 4. Validação da Consistência dos Dados\n",
    "\n",
    "Verificamos se há consistência entre os serviços de internet. Por exemplo, se `InternetService` for 'No', então colunas como `OnlineSecurity`, `TechSupport`, etc., devem ter o valor 'No internet service'."
   ]
  },
  {
   "cell_type": "code",
   "execution_count": 14,
   "metadata": {},
   "outputs": [
    {
     "name": "stdout",
     "output_type": "stream",
     "text": [
      "Verificando a consistência para clientes sem internet:\n",
      "\n",
      "OnlineSecurity: Consistente\n",
      "OnlineBackup: Consistente\n",
      "DeviceProtection: Consistente\n",
      "TechSupport: Consistente\n",
      "StreamingTV: Consistente\n",
      "StreamingMovies: Consistente\n"
     ]
    }
   ],
   "source": [
    "colunas_servicos_internet = [\n",
    "    'OnlineSecurity', 'OnlineBackup', 'DeviceProtection', \n",
    "    'TechSupport', 'StreamingTV', 'StreamingMovies'\n",
    "]\n",
    "\n",
    "# Filtra o dataframe onde não há serviço de internet\n",
    "df_sem_internet = df[df['InternetService'] == 'No']\n",
    "\n",
    "print(\"Verificando a consistência para clientes sem internet:\\n\")\n",
    "for col in colunas_servicos_internet:\n",
    "    # Se todos os valores forem 'No internet service', o output será 1. Qualquer outro valor indica inconsistência.\n",
    "    is_consistent = df_sem_internet[col].nunique() == 1 and df_sem_internet[col].unique()[0] == 'No internet service'\n",
    "    print(f\"{col}: {'Consistente' if is_consistent else 'INCONSISTENTE'}\")"
   ]
  },
  {
   "cell_type": "markdown",
   "metadata": {},
   "source": [
    "### 5. Salvamento dos Dados Limpos\n",
    "\n",
    "Após a limpeza e o pré-processamento, o DataFrame resultante é salvo em um novo arquivo CSV para ser usado nas próximas fases de análise e modelagem."
   ]
  },
  {
   "cell_type": "code",
   "execution_count": 15,
   "metadata": {},
   "outputs": [
    {
     "name": "stdout",
     "output_type": "stream",
     "text": [
      "\n",
      "Dataset limpo e salvo com sucesso em: E:\\Documentos\\Cursos\\Alura\\ONE\\Desafio-03\\telecom_x_cleaned.csv\n",
      "Dimensões finais do Dataset: (7043, 20)\n"
     ]
    }
   ],
   "source": [
    "caminho_saida = r'E:\\Documentos\\Cursos\\Alura\\ONE\\Desafio-03\\telecom_x_cleaned.csv'\n",
    "\n",
    "df.to_csv(caminho_saida, index=False)\n",
    "\n",
    "print(f\"\\nDataset limpo e salvo com sucesso em: {caminho_saida}\")\n",
    "print(f\"Dimensões finais do Dataset: {df.shape}\")"
   ]
  },
  {
   "cell_type": "code",
   "execution_count": 16,
   "metadata": {},
   "outputs": [
    {
     "name": "stdout",
     "output_type": "stream",
     "text": [
      "<class 'pandas.core.frame.DataFrame'>\n",
      "Index: 7043 entries, 0 to 7266\n",
      "Data columns (total 20 columns):\n",
      " #   Column            Non-Null Count  Dtype  \n",
      "---  ------            --------------  -----  \n",
      " 0   Churn             7043 non-null   object \n",
      " 1   gender            7043 non-null   object \n",
      " 2   SeniorCitizen     7043 non-null   int64  \n",
      " 3   Partner           7043 non-null   object \n",
      " 4   Dependents        7043 non-null   object \n",
      " 5   tenure            7043 non-null   int64  \n",
      " 6   PhoneService      7043 non-null   object \n",
      " 7   MultipleLines     7043 non-null   object \n",
      " 8   InternetService   7043 non-null   object \n",
      " 9   OnlineSecurity    7043 non-null   object \n",
      " 10  OnlineBackup      7043 non-null   object \n",
      " 11  DeviceProtection  7043 non-null   object \n",
      " 12  TechSupport       7043 non-null   object \n",
      " 13  StreamingTV       7043 non-null   object \n",
      " 14  StreamingMovies   7043 non-null   object \n",
      " 15  Contract          7043 non-null   object \n",
      " 16  PaperlessBilling  7043 non-null   object \n",
      " 17  PaymentMethod     7043 non-null   object \n",
      " 18  Charges.Monthly   7043 non-null   float64\n",
      " 19  Charges.Total     7043 non-null   float64\n",
      "dtypes: float64(2), int64(2), object(16)\n",
      "memory usage: 1.1+ MB\n"
     ]
    }
   ],
   "source": [
    "df.info()"
   ]
  },
  {
   "cell_type": "code",
   "execution_count": null,
   "metadata": {},
   "outputs": [],
   "source": []
  }
 ],
 "metadata": {
  "kernelspec": {
   "display_name": ".venv",
   "language": "python",
   "name": "python3"
  },
  "language_info": {
   "codemirror_mode": {
    "name": "ipython",
    "version": 3
   },
   "file_extension": ".py",
   "mimetype": "text/x-python",
   "name": "python",
   "nbconvert_exporter": "python",
   "pygments_lexer": "ipython3",
   "version": "3.13.1"
  }
 },
 "nbformat": 4,
 "nbformat_minor": 4
}

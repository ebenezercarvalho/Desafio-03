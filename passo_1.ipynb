{
 "cells": [
  {
   "cell_type": "markdown",
   "metadata": {},
   "source": [
    "# Fase 1: Limpeza e Pré-processamento dos Dados\n",
    "\n",
    "Este notebook executa a primeira fase do projeto de previsão de churn: a limpeza e o pré-processamento dos dados. As seguintes etapas serão realizadas:\n",
    "\n",
    "1.  **Carregamento dos Dados**: Importação das bibliotecas e leitura do arquivo CSV.\n",
    "2.  **Tratamento da Variável Alvo (`Churn`)**: Remoção de registros onde a variável alvo é nula.\n",
    "3.  **Correção de Tipos e Tratamento de Nulos (`Charges.Total`)**: Conversão da coluna para o tipo numérico e tratamento inteligente dos valores ausentes.\n",
    "4.  **Validação da Consistência dos Dados**: Verificação de regras de negócio entre as colunas de serviços.\n",
    "5.  **Salvamento dos Dados Limpos**: Exportação do DataFrame processado para um novo arquivo CSV."
   ]
  },
  {
   "cell_type": "code",
   "execution_count": null,
   "metadata": {},
   "outputs": [],
   "source": [
    "import pandas as pd\n",
    "import numpy as np\n",
    "\n",
    "# Desabilitar warnings para uma saída mais limpa (opcional)\n",
    "import warnings\n",
    "warnings.filterwarnings('ignore')"
   ]
  },
  {
   "cell_type": "markdown",
   "metadata": {},
   "source": [
    "### 1. Carregamento dos Dados"
   ]
  },
  {
   "cell_type": "code",
   "execution_count": null,
   "metadata": {},
   "outputs": [],
   "source": [
    "# O caminho do arquivo foi fornecido no contexto.\n",
    "caminho_arquivo = r'E:\\Documentos\\Cursos\\Alura\\ONE\\Desafio-03\\telecom_x.csv'\n",
    "\n",
    "# Carregar o dataset\n",
    "df = pd.read_csv(caminho_arquivo)\n",
    "\n",
    "# Exibir as primeiras linhas e informações gerais\n",
    "print(\"Dimensões Originais do Dataset:\", df.shape)\n",
    "print(\"\\nInformações Iniciais:\")\n",
    "df.info()"
   ]
  },
  {
   "cell_type": "markdown",
   "metadata": {},
   "source": [
    "### 2. Tratamento da Variável Alvo (`Churn`)\n",
    "\n",
    "A variável alvo é essencial para o treinamento de um modelo supervisionado. Registros com o valor de `Churn` ausente não podem ser utilizados e serão removidos."
   ]
  },
  {
   "cell_type": "code",
   "execution_count": null,
   "metadata": {},
   "outputs": [],
   "source": [
    "print(f\"Quantidade de valores nulos em 'Churn' antes: {df['Churn'].isnull().sum()}\")\n",
    "\n",
    "# Remover linhas onde a coluna 'Churn' é nula\n",
    "df.dropna(subset=['Churn'], inplace=True)\n",
    "\n",
    "print(f\"Quantidade de valores nulos em 'Churn' depois: {df['Churn'].isnull().sum()}\")\n",
    "print(f\"Novas dimensões do Dataset: {df.shape}\")"
   ]
  },
  {
   "cell_type": "markdown",
   "metadata": {},
   "source": [
    "### 3. Correção de Tipos e Tratamento de Nulos (`Charges.Total`)\n",
    "\n",
    "A coluna `Charges.Total` frequentemente é carregada como `object` (texto) se contiver espaços ou outros caracteres não numéricos. O primeiro passo é convertê-la para um formato numérico, forçando os valores inválidos a se tornarem `NaN` (Not a Number)."
   ]
  },
  {
   "cell_type": "code",
   "execution_count": null,
   "metadata": {},
   "outputs": [],
   "source": [
    "# Converter 'Charges.Total' para numérico. errors='coerce' transforma o que não for número em NaN.\n",
    "df['Charges.Total'] = pd.to_numeric(df['Charges.Total'], errors='coerce')\n",
    "\n",
    "# Verificar quantos valores nulos foram criados/encontrados\n",
    "nulos_total_charges = df['Charges.Total'].isnull().sum()\n",
    "print(f\"Quantidade de valores nulos em 'Charges.Total' após conversão: {nulos_total_charges}\")"
   ]
  },
  {
   "cell_type": "markdown",
   "metadata": {},
   "source": [
    "#### 3.1 Investigando a Causa dos Valores Nulos\n",
    "\n",
    "Antes de aplicar uma regra genérica de imputação, vamos investigar por que esses valores são nulos. A hipótese é que eles pertencem a clientes novos com `tenure` (tempo de contrato) igual a 0."
   ]
  },
  {
   "cell_type": "code",
   "execution_count": null,
   "metadata": {},
   "outputs": [],
   "source": [
    "# Filtrar o dataframe para ver os registros onde 'Charges.Total' é nulo\n",
    "registros_nulos = df[df['Charges.Total'].isnull()]\n",
    "\n",
    "print(\"Valores de 'tenure' para registros com 'Charges.Total' nulo:\")\n",
    "print(registros_nulos['tenure'].value_counts())"
   ]
  },
  {
   "cell_type": "markdown",
   "metadata": {},
   "source": [
    "#### 3.2 Imputação dos Valores Nulos\n",
    "\n",
    "A investigação confirma que todos os valores ausentes em `Charges.Total` correspondem a clientes com `tenure = 0`. Portanto, a imputação correta e que reflete a realidade do negócio é preencher esses valores com `0`.\n",
    "\n",
    "**Nota sobre a Regra de Imputação:** Embora a instrução geral fosse usar amostragem bootstrap para um grande número de nulos, neste caso específico, a investigação revelou uma causa raiz definida. A imputação com '0' é uma representação factual e mais precisa do que uma imputação estatística aleatória."
   ]
  },
  {
   "cell_type": "code",
   "execution_count": null,
   "metadata": {},
   "outputs": [],
   "source": [
    "# Preencher os valores nulos em 'Charges.Total' com 0\n",
    "df['Charges.Total'].fillna(0, inplace=True)\n",
    "\n",
    "print(f\"Valores nulos em 'Charges.Total' após imputação: {df['Charges.Total'].isnull().sum()}\")"
   ]
  },
  {
   "cell_type": "markdown",
   "metadata": {},
   "source": [
    "### 4. Validação da Consistência dos Dados\n",
    "\n",
    "Verificamos se há consistência entre os serviços de internet. Por exemplo, se `InternetService` for 'No', então colunas como `OnlineSecurity`, `TechSupport`, etc., devem ter o valor 'No internet service'."
   ]
  },
  {
   "cell_type": "code",
   "execution_count": null,
   "metadata": {},
   "outputs": [],
   "source": [
    "colunas_servicos_internet = [\n",
    "    'OnlineSecurity', 'OnlineBackup', 'DeviceProtection', \n",
    "    'TechSupport', 'StreamingTV', 'StreamingMovies'\n",
    "]\n",
    "\n",
    "# Filtra o dataframe onde não há serviço de internet\n",
    "df_sem_internet = df[df['InternetService'] == 'No']\n",
    "\n",
    "print(\"Verificando a consistência para clientes sem internet:\\n\")\n",
    "for col in colunas_servicos_internet:\n",
    "    # Se todos os valores forem 'No internet service', o output será 1. Qualquer outro valor indica inconsistência.\n",
    "    is_consistent = df_sem_internet[col].nunique() == 1 and df_sem_internet[col].unique()[0] == 'No internet service'\n",
    "    print(f\"{col}: {'Consistente' if is_consistent else 'INCONSISTENTE'}\")"
   ]
  },
  {
   "cell_type": "markdown",
   "metadata": {},
   "source": [
    "### 5. Salvamento dos Dados Limpos\n",
    "\n",
    "Após a limpeza e o pré-processamento, o DataFrame resultante é salvo em um novo arquivo CSV para ser usado nas próximas fases de análise e modelagem."
   ]
  },
  {
   "cell_type": "code",
   "execution_count": null,
   "metadata": {},
   "outputs": [],
   "source": [
    "caminho_saida = r'E:\\Documentos\\Cursos\\Alura\\ONE\\Desafio-03\\telecom_x_cleaned.csv'\n",
    "\n",
    "df.to_csv(caminho_saida, index=False)\n",
    "\n",
    "print(f\"\\nDataset limpo e salvo com sucesso em: {caminho_saida}\")\n",
    "print(f\"Dimensões finais do Dataset: {df.shape}\")"
   ]
  }
 ],
 "metadata": {
  "kernelspec": {
   "display_name": "Python 3",
   "language": "python",
   "name": "python3"
  },
  "language_info": {
   "codemirror_mode": {
    "name": "ipython",
    "version": 3
   },
   "file_extension": ".py",
   "mimetype": "text/x-python",
   "name": "python",
   "nbconvert_exporter": "python",
   "pygments_lexer": "ipython3",
   "version": "3.9.7"
  }
 },
 "nbformat": 4,
 "nbformat_minor": 4
}
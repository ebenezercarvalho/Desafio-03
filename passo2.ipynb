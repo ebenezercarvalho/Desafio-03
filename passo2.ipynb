{
 "cells": [
  {
   "cell_type": "markdown",
   "metadata": {},
   "source": [
    "# Fase 1 (Continuação): Codificação de Variáveis\n",
    "\n",
    "Este notebook dá continuidade à fase de pré-processamento, focando na transformação de variáveis categóricas em representações numéricas para que possam ser utilizadas por algoritmos de Machine Learning.\n",
    "\n",
    "As seguintes estratégias de codificação serão aplicadas:\n",
    "\n",
    "1.  **Variável Alvo:** Transformação da coluna `Churn` para o formato `0/1`.\n",
    "2.  **Variáveis Binárias:** Conversão de colunas com duas categorias (ex: 'Yes'/'No') para `0/1`.\n",
    "3.  **Variáveis Ordinais:** Mapeamento da coluna `Contract` para valores numéricos que preservem sua ordem intrínseca.\n",
    "4.  **Variáveis Nominais:** Aplicação do método One-Hot Encoding para as demais variáveis categóricas sem ordem específica.\n",
    "5.  **Salvamento:** O DataFrame final, totalmente pré-processado, será salvo em um novo arquivo."
   ]
  },
  {
   "cell_type": "code",
   "execution_count": 7,
   "metadata": {},
   "outputs": [],
   "source": [
    "import pandas as pd\n",
    "import numpy as np"
   ]
  },
  {
   "cell_type": "markdown",
   "metadata": {},
   "source": [
    "### Carregando os Dados Limpos\n",
    "\n",
    "Iniciamos carregando o dataset que foi limpo na etapa anterior."
   ]
  },
  {
   "cell_type": "code",
   "execution_count": 8,
   "metadata": {},
   "outputs": [
    {
     "name": "stdout",
     "output_type": "stream",
     "text": [
      "Dataset antes da codificação:\n"
     ]
    },
    {
     "data": {
      "application/vnd.microsoft.datawrangler.viewer.v0+json": {
       "columns": [
        {
         "name": "index",
         "rawType": "int64",
         "type": "integer"
        },
        {
         "name": "Churn",
         "rawType": "object",
         "type": "string"
        },
        {
         "name": "gender",
         "rawType": "object",
         "type": "string"
        },
        {
         "name": "SeniorCitizen",
         "rawType": "int64",
         "type": "integer"
        },
        {
         "name": "Partner",
         "rawType": "object",
         "type": "string"
        },
        {
         "name": "Dependents",
         "rawType": "object",
         "type": "string"
        },
        {
         "name": "tenure",
         "rawType": "int64",
         "type": "integer"
        },
        {
         "name": "PhoneService",
         "rawType": "object",
         "type": "string"
        },
        {
         "name": "MultipleLines",
         "rawType": "object",
         "type": "string"
        },
        {
         "name": "InternetService",
         "rawType": "object",
         "type": "string"
        },
        {
         "name": "OnlineSecurity",
         "rawType": "object",
         "type": "string"
        },
        {
         "name": "OnlineBackup",
         "rawType": "object",
         "type": "string"
        },
        {
         "name": "DeviceProtection",
         "rawType": "object",
         "type": "string"
        },
        {
         "name": "TechSupport",
         "rawType": "object",
         "type": "string"
        },
        {
         "name": "StreamingTV",
         "rawType": "object",
         "type": "string"
        },
        {
         "name": "StreamingMovies",
         "rawType": "object",
         "type": "string"
        },
        {
         "name": "Contract",
         "rawType": "object",
         "type": "string"
        },
        {
         "name": "PaperlessBilling",
         "rawType": "object",
         "type": "string"
        },
        {
         "name": "PaymentMethod",
         "rawType": "object",
         "type": "string"
        },
        {
         "name": "Charges.Monthly",
         "rawType": "float64",
         "type": "float"
        },
        {
         "name": "Charges.Total",
         "rawType": "float64",
         "type": "float"
        }
       ],
       "ref": "9c6c92c5-5874-4b1d-9c67-d1395d0e4a5f",
       "rows": [
        [
         "0",
         "No",
         "Female",
         "0",
         "Yes",
         "Yes",
         "9",
         "Yes",
         "No",
         "DSL",
         "No",
         "Yes",
         "No",
         "Yes",
         "Yes",
         "No",
         "One year",
         "Yes",
         "Mailed check",
         "65.6",
         "593.3"
        ],
        [
         "1",
         "No",
         "Male",
         "0",
         "No",
         "No",
         "9",
         "Yes",
         "Yes",
         "DSL",
         "No",
         "No",
         "No",
         "No",
         "No",
         "Yes",
         "Month-to-month",
         "No",
         "Mailed check",
         "59.9",
         "542.4"
        ],
        [
         "2",
         "Yes",
         "Male",
         "0",
         "No",
         "No",
         "4",
         "Yes",
         "No",
         "Fiber optic",
         "No",
         "No",
         "Yes",
         "No",
         "No",
         "No",
         "Month-to-month",
         "Yes",
         "Electronic check",
         "73.9",
         "280.85"
        ],
        [
         "3",
         "Yes",
         "Male",
         "1",
         "Yes",
         "No",
         "13",
         "Yes",
         "No",
         "Fiber optic",
         "No",
         "Yes",
         "Yes",
         "No",
         "Yes",
         "Yes",
         "Month-to-month",
         "Yes",
         "Electronic check",
         "98.0",
         "1237.85"
        ],
        [
         "4",
         "Yes",
         "Female",
         "1",
         "Yes",
         "No",
         "3",
         "Yes",
         "No",
         "Fiber optic",
         "No",
         "No",
         "No",
         "Yes",
         "Yes",
         "No",
         "Month-to-month",
         "Yes",
         "Mailed check",
         "83.9",
         "267.4"
        ]
       ],
       "shape": {
        "columns": 20,
        "rows": 5
       }
      },
      "text/html": [
       "<div>\n",
       "<style scoped>\n",
       "    .dataframe tbody tr th:only-of-type {\n",
       "        vertical-align: middle;\n",
       "    }\n",
       "\n",
       "    .dataframe tbody tr th {\n",
       "        vertical-align: top;\n",
       "    }\n",
       "\n",
       "    .dataframe thead th {\n",
       "        text-align: right;\n",
       "    }\n",
       "</style>\n",
       "<table border=\"1\" class=\"dataframe\">\n",
       "  <thead>\n",
       "    <tr style=\"text-align: right;\">\n",
       "      <th></th>\n",
       "      <th>Churn</th>\n",
       "      <th>gender</th>\n",
       "      <th>SeniorCitizen</th>\n",
       "      <th>Partner</th>\n",
       "      <th>Dependents</th>\n",
       "      <th>tenure</th>\n",
       "      <th>PhoneService</th>\n",
       "      <th>MultipleLines</th>\n",
       "      <th>InternetService</th>\n",
       "      <th>OnlineSecurity</th>\n",
       "      <th>OnlineBackup</th>\n",
       "      <th>DeviceProtection</th>\n",
       "      <th>TechSupport</th>\n",
       "      <th>StreamingTV</th>\n",
       "      <th>StreamingMovies</th>\n",
       "      <th>Contract</th>\n",
       "      <th>PaperlessBilling</th>\n",
       "      <th>PaymentMethod</th>\n",
       "      <th>Charges.Monthly</th>\n",
       "      <th>Charges.Total</th>\n",
       "    </tr>\n",
       "  </thead>\n",
       "  <tbody>\n",
       "    <tr>\n",
       "      <th>0</th>\n",
       "      <td>No</td>\n",
       "      <td>Female</td>\n",
       "      <td>0</td>\n",
       "      <td>Yes</td>\n",
       "      <td>Yes</td>\n",
       "      <td>9</td>\n",
       "      <td>Yes</td>\n",
       "      <td>No</td>\n",
       "      <td>DSL</td>\n",
       "      <td>No</td>\n",
       "      <td>Yes</td>\n",
       "      <td>No</td>\n",
       "      <td>Yes</td>\n",
       "      <td>Yes</td>\n",
       "      <td>No</td>\n",
       "      <td>One year</td>\n",
       "      <td>Yes</td>\n",
       "      <td>Mailed check</td>\n",
       "      <td>65.6</td>\n",
       "      <td>593.30</td>\n",
       "    </tr>\n",
       "    <tr>\n",
       "      <th>1</th>\n",
       "      <td>No</td>\n",
       "      <td>Male</td>\n",
       "      <td>0</td>\n",
       "      <td>No</td>\n",
       "      <td>No</td>\n",
       "      <td>9</td>\n",
       "      <td>Yes</td>\n",
       "      <td>Yes</td>\n",
       "      <td>DSL</td>\n",
       "      <td>No</td>\n",
       "      <td>No</td>\n",
       "      <td>No</td>\n",
       "      <td>No</td>\n",
       "      <td>No</td>\n",
       "      <td>Yes</td>\n",
       "      <td>Month-to-month</td>\n",
       "      <td>No</td>\n",
       "      <td>Mailed check</td>\n",
       "      <td>59.9</td>\n",
       "      <td>542.40</td>\n",
       "    </tr>\n",
       "    <tr>\n",
       "      <th>2</th>\n",
       "      <td>Yes</td>\n",
       "      <td>Male</td>\n",
       "      <td>0</td>\n",
       "      <td>No</td>\n",
       "      <td>No</td>\n",
       "      <td>4</td>\n",
       "      <td>Yes</td>\n",
       "      <td>No</td>\n",
       "      <td>Fiber optic</td>\n",
       "      <td>No</td>\n",
       "      <td>No</td>\n",
       "      <td>Yes</td>\n",
       "      <td>No</td>\n",
       "      <td>No</td>\n",
       "      <td>No</td>\n",
       "      <td>Month-to-month</td>\n",
       "      <td>Yes</td>\n",
       "      <td>Electronic check</td>\n",
       "      <td>73.9</td>\n",
       "      <td>280.85</td>\n",
       "    </tr>\n",
       "    <tr>\n",
       "      <th>3</th>\n",
       "      <td>Yes</td>\n",
       "      <td>Male</td>\n",
       "      <td>1</td>\n",
       "      <td>Yes</td>\n",
       "      <td>No</td>\n",
       "      <td>13</td>\n",
       "      <td>Yes</td>\n",
       "      <td>No</td>\n",
       "      <td>Fiber optic</td>\n",
       "      <td>No</td>\n",
       "      <td>Yes</td>\n",
       "      <td>Yes</td>\n",
       "      <td>No</td>\n",
       "      <td>Yes</td>\n",
       "      <td>Yes</td>\n",
       "      <td>Month-to-month</td>\n",
       "      <td>Yes</td>\n",
       "      <td>Electronic check</td>\n",
       "      <td>98.0</td>\n",
       "      <td>1237.85</td>\n",
       "    </tr>\n",
       "    <tr>\n",
       "      <th>4</th>\n",
       "      <td>Yes</td>\n",
       "      <td>Female</td>\n",
       "      <td>1</td>\n",
       "      <td>Yes</td>\n",
       "      <td>No</td>\n",
       "      <td>3</td>\n",
       "      <td>Yes</td>\n",
       "      <td>No</td>\n",
       "      <td>Fiber optic</td>\n",
       "      <td>No</td>\n",
       "      <td>No</td>\n",
       "      <td>No</td>\n",
       "      <td>Yes</td>\n",
       "      <td>Yes</td>\n",
       "      <td>No</td>\n",
       "      <td>Month-to-month</td>\n",
       "      <td>Yes</td>\n",
       "      <td>Mailed check</td>\n",
       "      <td>83.9</td>\n",
       "      <td>267.40</td>\n",
       "    </tr>\n",
       "  </tbody>\n",
       "</table>\n",
       "</div>"
      ],
      "text/plain": [
       "  Churn  gender  SeniorCitizen Partner Dependents  tenure PhoneService  \\\n",
       "0    No  Female              0     Yes        Yes       9          Yes   \n",
       "1    No    Male              0      No         No       9          Yes   \n",
       "2   Yes    Male              0      No         No       4          Yes   \n",
       "3   Yes    Male              1     Yes         No      13          Yes   \n",
       "4   Yes  Female              1     Yes         No       3          Yes   \n",
       "\n",
       "  MultipleLines InternetService OnlineSecurity OnlineBackup DeviceProtection  \\\n",
       "0            No             DSL             No          Yes               No   \n",
       "1           Yes             DSL             No           No               No   \n",
       "2            No     Fiber optic             No           No              Yes   \n",
       "3            No     Fiber optic             No          Yes              Yes   \n",
       "4            No     Fiber optic             No           No               No   \n",
       "\n",
       "  TechSupport StreamingTV StreamingMovies        Contract PaperlessBilling  \\\n",
       "0         Yes         Yes              No        One year              Yes   \n",
       "1          No          No             Yes  Month-to-month               No   \n",
       "2          No          No              No  Month-to-month              Yes   \n",
       "3          No         Yes             Yes  Month-to-month              Yes   \n",
       "4         Yes         Yes              No  Month-to-month              Yes   \n",
       "\n",
       "      PaymentMethod  Charges.Monthly  Charges.Total  \n",
       "0      Mailed check             65.6         593.30  \n",
       "1      Mailed check             59.9         542.40  \n",
       "2  Electronic check             73.9         280.85  \n",
       "3  Electronic check             98.0        1237.85  \n",
       "4      Mailed check             83.9         267.40  "
      ]
     },
     "metadata": {},
     "output_type": "display_data"
    },
    {
     "name": "stdout",
     "output_type": "stream",
     "text": [
      "\n",
      "Tipos de dados antes da codificação:\n",
      "<class 'pandas.core.frame.DataFrame'>\n",
      "RangeIndex: 7043 entries, 0 to 7042\n",
      "Data columns (total 20 columns):\n",
      " #   Column            Non-Null Count  Dtype  \n",
      "---  ------            --------------  -----  \n",
      " 0   Churn             7043 non-null   object \n",
      " 1   gender            7043 non-null   object \n",
      " 2   SeniorCitizen     7043 non-null   int64  \n",
      " 3   Partner           7043 non-null   object \n",
      " 4   Dependents        7043 non-null   object \n",
      " 5   tenure            7043 non-null   int64  \n",
      " 6   PhoneService      7043 non-null   object \n",
      " 7   MultipleLines     7043 non-null   object \n",
      " 8   InternetService   7043 non-null   object \n",
      " 9   OnlineSecurity    7043 non-null   object \n",
      " 10  OnlineBackup      7043 non-null   object \n",
      " 11  DeviceProtection  7043 non-null   object \n",
      " 12  TechSupport       7043 non-null   object \n",
      " 13  StreamingTV       7043 non-null   object \n",
      " 14  StreamingMovies   7043 non-null   object \n",
      " 15  Contract          7043 non-null   object \n",
      " 16  PaperlessBilling  7043 non-null   object \n",
      " 17  PaymentMethod     7043 non-null   object \n",
      " 18  Charges.Monthly   7043 non-null   float64\n",
      " 19  Charges.Total     7043 non-null   float64\n",
      "dtypes: float64(2), int64(2), object(16)\n",
      "memory usage: 1.1+ MB\n"
     ]
    }
   ],
   "source": [
    "# Caminho do arquivo limpo gerado pelo notebook anterior\n",
    "caminho_arquivo_limpo = r'E:\\Documentos\\Cursos\\Alura\\ONE\\Desafio-03\\telecom_x_cleaned.csv'\n",
    "\n",
    "# Carregar o dataset\n",
    "df = pd.read_csv(caminho_arquivo_limpo)\n",
    "\n",
    "# Exibir as primeiras linhas e os tipos de dados para verificar o estado atual\n",
    "print(\"Dataset antes da codificação:\")\n",
    "display(df.head())\n",
    "print(\"\\nTipos de dados antes da codificação:\")\n",
    "df.info()"
   ]
  },
  {
   "cell_type": "markdown",
   "metadata": {},
   "source": [
    "### 1. Codificação da Variável Alvo (`Churn`)\n",
    "\n",
    "A variável alvo `Churn` precisa ser convertida para um formato numérico. Adotaremos a convenção `No = 0` e `Yes = 1`."
   ]
  },
  {
   "cell_type": "code",
   "execution_count": 9,
   "metadata": {},
   "outputs": [
    {
     "name": "stdout",
     "output_type": "stream",
     "text": [
      "Valores da coluna 'Churn' após codificação:\n",
      "Churn\n",
      "0    5174\n",
      "1    1869\n",
      "Name: count, dtype: int64\n"
     ]
    }
   ],
   "source": [
    "df['Churn'] = df['Churn'].map({'No': 0, 'Yes': 1})\n",
    "\n",
    "print(\"Valores da coluna 'Churn' após codificação:\")\n",
    "print(df['Churn'].value_counts())"
   ]
  },
  {
   "cell_type": "markdown",
   "metadata": {},
   "source": [
    "### 2. Codificação de Variáveis Binárias\n",
    "\n",
    "Colunas com respostas 'Yes'/'No' e a coluna `gender` serão convertidas para `0/1`."
   ]
  },
  {
   "cell_type": "code",
   "execution_count": 10,
   "metadata": {},
   "outputs": [
    {
     "name": "stdout",
     "output_type": "stream",
     "text": [
      "Prévia dos dados após codificação binária:\n"
     ]
    },
    {
     "data": {
      "application/vnd.microsoft.datawrangler.viewer.v0+json": {
       "columns": [
        {
         "name": "index",
         "rawType": "int64",
         "type": "integer"
        },
        {
         "name": "gender",
         "rawType": "int64",
         "type": "integer"
        },
        {
         "name": "Partner",
         "rawType": "int64",
         "type": "integer"
        },
        {
         "name": "Dependents",
         "rawType": "int64",
         "type": "integer"
        },
        {
         "name": "PhoneService",
         "rawType": "int64",
         "type": "integer"
        },
        {
         "name": "PaperlessBilling",
         "rawType": "int64",
         "type": "integer"
        }
       ],
       "ref": "e3bbeba9-f740-468e-b97d-e93b14dfa447",
       "rows": [
        [
         "0",
         "0",
         "1",
         "1",
         "1",
         "1"
        ],
        [
         "1",
         "1",
         "0",
         "0",
         "1",
         "0"
        ],
        [
         "2",
         "1",
         "0",
         "0",
         "1",
         "1"
        ],
        [
         "3",
         "1",
         "1",
         "0",
         "1",
         "1"
        ],
        [
         "4",
         "0",
         "1",
         "0",
         "1",
         "1"
        ]
       ],
       "shape": {
        "columns": 5,
        "rows": 5
       }
      },
      "text/html": [
       "<div>\n",
       "<style scoped>\n",
       "    .dataframe tbody tr th:only-of-type {\n",
       "        vertical-align: middle;\n",
       "    }\n",
       "\n",
       "    .dataframe tbody tr th {\n",
       "        vertical-align: top;\n",
       "    }\n",
       "\n",
       "    .dataframe thead th {\n",
       "        text-align: right;\n",
       "    }\n",
       "</style>\n",
       "<table border=\"1\" class=\"dataframe\">\n",
       "  <thead>\n",
       "    <tr style=\"text-align: right;\">\n",
       "      <th></th>\n",
       "      <th>gender</th>\n",
       "      <th>Partner</th>\n",
       "      <th>Dependents</th>\n",
       "      <th>PhoneService</th>\n",
       "      <th>PaperlessBilling</th>\n",
       "    </tr>\n",
       "  </thead>\n",
       "  <tbody>\n",
       "    <tr>\n",
       "      <th>0</th>\n",
       "      <td>0</td>\n",
       "      <td>1</td>\n",
       "      <td>1</td>\n",
       "      <td>1</td>\n",
       "      <td>1</td>\n",
       "    </tr>\n",
       "    <tr>\n",
       "      <th>1</th>\n",
       "      <td>1</td>\n",
       "      <td>0</td>\n",
       "      <td>0</td>\n",
       "      <td>1</td>\n",
       "      <td>0</td>\n",
       "    </tr>\n",
       "    <tr>\n",
       "      <th>2</th>\n",
       "      <td>1</td>\n",
       "      <td>0</td>\n",
       "      <td>0</td>\n",
       "      <td>1</td>\n",
       "      <td>1</td>\n",
       "    </tr>\n",
       "    <tr>\n",
       "      <th>3</th>\n",
       "      <td>1</td>\n",
       "      <td>1</td>\n",
       "      <td>0</td>\n",
       "      <td>1</td>\n",
       "      <td>1</td>\n",
       "    </tr>\n",
       "    <tr>\n",
       "      <th>4</th>\n",
       "      <td>0</td>\n",
       "      <td>1</td>\n",
       "      <td>0</td>\n",
       "      <td>1</td>\n",
       "      <td>1</td>\n",
       "    </tr>\n",
       "  </tbody>\n",
       "</table>\n",
       "</div>"
      ],
      "text/plain": [
       "   gender  Partner  Dependents  PhoneService  PaperlessBilling\n",
       "0       0        1           1             1                 1\n",
       "1       1        0           0             1                 0\n",
       "2       1        0           0             1                 1\n",
       "3       1        1           0             1                 1\n",
       "4       0        1           0             1                 1"
      ]
     },
     "metadata": {},
     "output_type": "display_data"
    }
   ],
   "source": [
    "# Codificação para 'gender' especificamente\n",
    "df['gender'] = df['gender'].map({'Female': 0, 'Male': 1})\n",
    "\n",
    "# Lista de outras colunas binárias com formato 'Yes'/'No'\n",
    "colunas_binarias = ['Partner', 'Dependents', 'PhoneService', 'PaperlessBilling']\n",
    "mapa_binario = {'No': 0, 'Yes': 1}\n",
    "\n",
    "for col in colunas_binarias:\n",
    "    df[col] = df[col].map(mapa_binario)\n",
    "\n",
    "print(\"Prévia dos dados após codificação binária:\")\n",
    "display(df[['gender', 'Partner', 'Dependents', 'PhoneService', 'PaperlessBilling']].head())"
   ]
  },
  {
   "cell_type": "markdown",
   "metadata": {},
   "source": [
    "### 3. Codificação de Variável Ordinal (`Contract`)\n",
    "\n",
    "A coluna `Contract` tem uma ordem clara (`Month-to-month` < `One year` < `Two year`), que representa um nível de compromisso crescente do cliente. Usaremos o mapeamento manual para preservar essa relação."
   ]
  },
  {
   "cell_type": "code",
   "execution_count": 11,
   "metadata": {},
   "outputs": [
    {
     "name": "stdout",
     "output_type": "stream",
     "text": [
      "Valores da coluna 'Contract' após codificação ordinal:\n",
      "Contract\n",
      "0    3875\n",
      "2    1695\n",
      "1    1473\n",
      "Name: count, dtype: int64\n"
     ]
    }
   ],
   "source": [
    "mapa_contrato = {\n",
    "    'Month-to-month': 0,\n",
    "    'One year': 1,\n",
    "    'Two year': 2\n",
    "}\n",
    "\n",
    "df['Contract'] = df['Contract'].map(mapa_contrato)\n",
    "\n",
    "print(\"Valores da coluna 'Contract' após codificação ordinal:\")\n",
    "print(df['Contract'].value_counts())"
   ]
  },
  {
   "cell_type": "markdown",
   "metadata": {},
   "source": [
    "### 4. Codificação de Variáveis Nominais (One-Hot Encoding)\n",
    "\n",
    "As variáveis categóricas restantes não possuem uma ordem intrínseca. Para estas, aplicaremos o One-Hot Encoding, que cria uma nova coluna para cada categoria.\n",
    "\n",
    "Usaremos `pd.get_dummies` com o parâmetro `drop_first=True` para evitar multicolinearidade, uma boa prática para modelos lineares."
   ]
  },
  {
   "cell_type": "code",
   "execution_count": 12,
   "metadata": {},
   "outputs": [
    {
     "name": "stdout",
     "output_type": "stream",
     "text": [
      "Colunas a serem transformadas com One-Hot Encoding: ['MultipleLines', 'InternetService', 'OnlineSecurity', 'OnlineBackup', 'DeviceProtection', 'TechSupport', 'StreamingTV', 'StreamingMovies', 'PaymentMethod']\n",
      "\n",
      "Dimensões do dataset após One-Hot Encoding: (7043, 30)\n",
      "Prévia dos dados com as novas colunas:\n"
     ]
    },
    {
     "data": {
      "application/vnd.microsoft.datawrangler.viewer.v0+json": {
       "columns": [
        {
         "name": "index",
         "rawType": "int64",
         "type": "integer"
        },
        {
         "name": "Churn",
         "rawType": "int64",
         "type": "integer"
        },
        {
         "name": "gender",
         "rawType": "int64",
         "type": "integer"
        },
        {
         "name": "SeniorCitizen",
         "rawType": "int64",
         "type": "integer"
        },
        {
         "name": "Partner",
         "rawType": "int64",
         "type": "integer"
        },
        {
         "name": "Dependents",
         "rawType": "int64",
         "type": "integer"
        },
        {
         "name": "tenure",
         "rawType": "int64",
         "type": "integer"
        },
        {
         "name": "PhoneService",
         "rawType": "int64",
         "type": "integer"
        },
        {
         "name": "Contract",
         "rawType": "int64",
         "type": "integer"
        },
        {
         "name": "PaperlessBilling",
         "rawType": "int64",
         "type": "integer"
        },
        {
         "name": "Charges.Monthly",
         "rawType": "float64",
         "type": "float"
        },
        {
         "name": "Charges.Total",
         "rawType": "float64",
         "type": "float"
        },
        {
         "name": "MultipleLines_No phone service",
         "rawType": "bool",
         "type": "boolean"
        },
        {
         "name": "MultipleLines_Yes",
         "rawType": "bool",
         "type": "boolean"
        },
        {
         "name": "InternetService_Fiber optic",
         "rawType": "bool",
         "type": "boolean"
        },
        {
         "name": "InternetService_No",
         "rawType": "bool",
         "type": "boolean"
        },
        {
         "name": "OnlineSecurity_No internet service",
         "rawType": "bool",
         "type": "boolean"
        },
        {
         "name": "OnlineSecurity_Yes",
         "rawType": "bool",
         "type": "boolean"
        },
        {
         "name": "OnlineBackup_No internet service",
         "rawType": "bool",
         "type": "boolean"
        },
        {
         "name": "OnlineBackup_Yes",
         "rawType": "bool",
         "type": "boolean"
        },
        {
         "name": "DeviceProtection_No internet service",
         "rawType": "bool",
         "type": "boolean"
        },
        {
         "name": "DeviceProtection_Yes",
         "rawType": "bool",
         "type": "boolean"
        },
        {
         "name": "TechSupport_No internet service",
         "rawType": "bool",
         "type": "boolean"
        },
        {
         "name": "TechSupport_Yes",
         "rawType": "bool",
         "type": "boolean"
        },
        {
         "name": "StreamingTV_No internet service",
         "rawType": "bool",
         "type": "boolean"
        },
        {
         "name": "StreamingTV_Yes",
         "rawType": "bool",
         "type": "boolean"
        },
        {
         "name": "StreamingMovies_No internet service",
         "rawType": "bool",
         "type": "boolean"
        },
        {
         "name": "StreamingMovies_Yes",
         "rawType": "bool",
         "type": "boolean"
        },
        {
         "name": "PaymentMethod_Credit card (automatic)",
         "rawType": "bool",
         "type": "boolean"
        },
        {
         "name": "PaymentMethod_Electronic check",
         "rawType": "bool",
         "type": "boolean"
        },
        {
         "name": "PaymentMethod_Mailed check",
         "rawType": "bool",
         "type": "boolean"
        }
       ],
       "ref": "e66c524a-a2e8-4644-8617-69eed2d8105e",
       "rows": [
        [
         "0",
         "0",
         "0",
         "0",
         "1",
         "1",
         "9",
         "1",
         "1",
         "1",
         "65.6",
         "593.3",
         "False",
         "False",
         "False",
         "False",
         "False",
         "False",
         "False",
         "True",
         "False",
         "False",
         "False",
         "True",
         "False",
         "True",
         "False",
         "False",
         "False",
         "False",
         "True"
        ],
        [
         "1",
         "0",
         "1",
         "0",
         "0",
         "0",
         "9",
         "1",
         "0",
         "0",
         "59.9",
         "542.4",
         "False",
         "True",
         "False",
         "False",
         "False",
         "False",
         "False",
         "False",
         "False",
         "False",
         "False",
         "False",
         "False",
         "False",
         "False",
         "True",
         "False",
         "False",
         "True"
        ],
        [
         "2",
         "1",
         "1",
         "0",
         "0",
         "0",
         "4",
         "1",
         "0",
         "1",
         "73.9",
         "280.85",
         "False",
         "False",
         "True",
         "False",
         "False",
         "False",
         "False",
         "False",
         "False",
         "True",
         "False",
         "False",
         "False",
         "False",
         "False",
         "False",
         "False",
         "True",
         "False"
        ],
        [
         "3",
         "1",
         "1",
         "1",
         "1",
         "0",
         "13",
         "1",
         "0",
         "1",
         "98.0",
         "1237.85",
         "False",
         "False",
         "True",
         "False",
         "False",
         "False",
         "False",
         "True",
         "False",
         "True",
         "False",
         "False",
         "False",
         "True",
         "False",
         "True",
         "False",
         "True",
         "False"
        ],
        [
         "4",
         "1",
         "0",
         "1",
         "1",
         "0",
         "3",
         "1",
         "0",
         "1",
         "83.9",
         "267.4",
         "False",
         "False",
         "True",
         "False",
         "False",
         "False",
         "False",
         "False",
         "False",
         "False",
         "False",
         "True",
         "False",
         "True",
         "False",
         "False",
         "False",
         "False",
         "True"
        ]
       ],
       "shape": {
        "columns": 30,
        "rows": 5
       }
      },
      "text/html": [
       "<div>\n",
       "<style scoped>\n",
       "    .dataframe tbody tr th:only-of-type {\n",
       "        vertical-align: middle;\n",
       "    }\n",
       "\n",
       "    .dataframe tbody tr th {\n",
       "        vertical-align: top;\n",
       "    }\n",
       "\n",
       "    .dataframe thead th {\n",
       "        text-align: right;\n",
       "    }\n",
       "</style>\n",
       "<table border=\"1\" class=\"dataframe\">\n",
       "  <thead>\n",
       "    <tr style=\"text-align: right;\">\n",
       "      <th></th>\n",
       "      <th>Churn</th>\n",
       "      <th>gender</th>\n",
       "      <th>SeniorCitizen</th>\n",
       "      <th>Partner</th>\n",
       "      <th>Dependents</th>\n",
       "      <th>tenure</th>\n",
       "      <th>PhoneService</th>\n",
       "      <th>Contract</th>\n",
       "      <th>PaperlessBilling</th>\n",
       "      <th>Charges.Monthly</th>\n",
       "      <th>...</th>\n",
       "      <th>DeviceProtection_Yes</th>\n",
       "      <th>TechSupport_No internet service</th>\n",
       "      <th>TechSupport_Yes</th>\n",
       "      <th>StreamingTV_No internet service</th>\n",
       "      <th>StreamingTV_Yes</th>\n",
       "      <th>StreamingMovies_No internet service</th>\n",
       "      <th>StreamingMovies_Yes</th>\n",
       "      <th>PaymentMethod_Credit card (automatic)</th>\n",
       "      <th>PaymentMethod_Electronic check</th>\n",
       "      <th>PaymentMethod_Mailed check</th>\n",
       "    </tr>\n",
       "  </thead>\n",
       "  <tbody>\n",
       "    <tr>\n",
       "      <th>0</th>\n",
       "      <td>0</td>\n",
       "      <td>0</td>\n",
       "      <td>0</td>\n",
       "      <td>1</td>\n",
       "      <td>1</td>\n",
       "      <td>9</td>\n",
       "      <td>1</td>\n",
       "      <td>1</td>\n",
       "      <td>1</td>\n",
       "      <td>65.6</td>\n",
       "      <td>...</td>\n",
       "      <td>False</td>\n",
       "      <td>False</td>\n",
       "      <td>True</td>\n",
       "      <td>False</td>\n",
       "      <td>True</td>\n",
       "      <td>False</td>\n",
       "      <td>False</td>\n",
       "      <td>False</td>\n",
       "      <td>False</td>\n",
       "      <td>True</td>\n",
       "    </tr>\n",
       "    <tr>\n",
       "      <th>1</th>\n",
       "      <td>0</td>\n",
       "      <td>1</td>\n",
       "      <td>0</td>\n",
       "      <td>0</td>\n",
       "      <td>0</td>\n",
       "      <td>9</td>\n",
       "      <td>1</td>\n",
       "      <td>0</td>\n",
       "      <td>0</td>\n",
       "      <td>59.9</td>\n",
       "      <td>...</td>\n",
       "      <td>False</td>\n",
       "      <td>False</td>\n",
       "      <td>False</td>\n",
       "      <td>False</td>\n",
       "      <td>False</td>\n",
       "      <td>False</td>\n",
       "      <td>True</td>\n",
       "      <td>False</td>\n",
       "      <td>False</td>\n",
       "      <td>True</td>\n",
       "    </tr>\n",
       "    <tr>\n",
       "      <th>2</th>\n",
       "      <td>1</td>\n",
       "      <td>1</td>\n",
       "      <td>0</td>\n",
       "      <td>0</td>\n",
       "      <td>0</td>\n",
       "      <td>4</td>\n",
       "      <td>1</td>\n",
       "      <td>0</td>\n",
       "      <td>1</td>\n",
       "      <td>73.9</td>\n",
       "      <td>...</td>\n",
       "      <td>True</td>\n",
       "      <td>False</td>\n",
       "      <td>False</td>\n",
       "      <td>False</td>\n",
       "      <td>False</td>\n",
       "      <td>False</td>\n",
       "      <td>False</td>\n",
       "      <td>False</td>\n",
       "      <td>True</td>\n",
       "      <td>False</td>\n",
       "    </tr>\n",
       "    <tr>\n",
       "      <th>3</th>\n",
       "      <td>1</td>\n",
       "      <td>1</td>\n",
       "      <td>1</td>\n",
       "      <td>1</td>\n",
       "      <td>0</td>\n",
       "      <td>13</td>\n",
       "      <td>1</td>\n",
       "      <td>0</td>\n",
       "      <td>1</td>\n",
       "      <td>98.0</td>\n",
       "      <td>...</td>\n",
       "      <td>True</td>\n",
       "      <td>False</td>\n",
       "      <td>False</td>\n",
       "      <td>False</td>\n",
       "      <td>True</td>\n",
       "      <td>False</td>\n",
       "      <td>True</td>\n",
       "      <td>False</td>\n",
       "      <td>True</td>\n",
       "      <td>False</td>\n",
       "    </tr>\n",
       "    <tr>\n",
       "      <th>4</th>\n",
       "      <td>1</td>\n",
       "      <td>0</td>\n",
       "      <td>1</td>\n",
       "      <td>1</td>\n",
       "      <td>0</td>\n",
       "      <td>3</td>\n",
       "      <td>1</td>\n",
       "      <td>0</td>\n",
       "      <td>1</td>\n",
       "      <td>83.9</td>\n",
       "      <td>...</td>\n",
       "      <td>False</td>\n",
       "      <td>False</td>\n",
       "      <td>True</td>\n",
       "      <td>False</td>\n",
       "      <td>True</td>\n",
       "      <td>False</td>\n",
       "      <td>False</td>\n",
       "      <td>False</td>\n",
       "      <td>False</td>\n",
       "      <td>True</td>\n",
       "    </tr>\n",
       "  </tbody>\n",
       "</table>\n",
       "<p>5 rows × 30 columns</p>\n",
       "</div>"
      ],
      "text/plain": [
       "   Churn  gender  SeniorCitizen  Partner  Dependents  tenure  PhoneService  \\\n",
       "0      0       0              0        1           1       9             1   \n",
       "1      0       1              0        0           0       9             1   \n",
       "2      1       1              0        0           0       4             1   \n",
       "3      1       1              1        1           0      13             1   \n",
       "4      1       0              1        1           0       3             1   \n",
       "\n",
       "   Contract  PaperlessBilling  Charges.Monthly  ...  DeviceProtection_Yes  \\\n",
       "0         1                 1             65.6  ...                 False   \n",
       "1         0                 0             59.9  ...                 False   \n",
       "2         0                 1             73.9  ...                  True   \n",
       "3         0                 1             98.0  ...                  True   \n",
       "4         0                 1             83.9  ...                 False   \n",
       "\n",
       "   TechSupport_No internet service  TechSupport_Yes  \\\n",
       "0                            False             True   \n",
       "1                            False            False   \n",
       "2                            False            False   \n",
       "3                            False            False   \n",
       "4                            False             True   \n",
       "\n",
       "   StreamingTV_No internet service  StreamingTV_Yes  \\\n",
       "0                            False             True   \n",
       "1                            False            False   \n",
       "2                            False            False   \n",
       "3                            False             True   \n",
       "4                            False             True   \n",
       "\n",
       "   StreamingMovies_No internet service  StreamingMovies_Yes  \\\n",
       "0                                False                False   \n",
       "1                                False                 True   \n",
       "2                                False                False   \n",
       "3                                False                 True   \n",
       "4                                False                False   \n",
       "\n",
       "   PaymentMethod_Credit card (automatic)  PaymentMethod_Electronic check  \\\n",
       "0                                  False                           False   \n",
       "1                                  False                           False   \n",
       "2                                  False                            True   \n",
       "3                                  False                            True   \n",
       "4                                  False                           False   \n",
       "\n",
       "   PaymentMethod_Mailed check  \n",
       "0                        True  \n",
       "1                        True  \n",
       "2                       False  \n",
       "3                       False  \n",
       "4                        True  \n",
       "\n",
       "[5 rows x 30 columns]"
      ]
     },
     "metadata": {},
     "output_type": "display_data"
    }
   ],
   "source": [
    "# Identificar as colunas categóricas restantes (tipo 'object')\n",
    "colunas_nominais = df.select_dtypes(include='object').columns.tolist()\n",
    "\n",
    "print(f\"Colunas a serem transformadas com One-Hot Encoding: {colunas_nominais}\")\n",
    "\n",
    "# Aplicar One-Hot Encoding\n",
    "df = pd.get_dummies(df, columns=colunas_nominais, drop_first=True)\n",
    "\n",
    "print(\"\\nDimensões do dataset após One-Hot Encoding:\", df.shape)\n",
    "print(\"Prévia dos dados com as novas colunas:\")\n",
    "display(df.head())"
   ]
  },
  {
   "cell_type": "markdown",
   "metadata": {},
   "source": [
    "### 5. Variáveis Numéricas\n",
    "\n",
    "As variáveis `tenure`, `Charges.Monthly` e `Charges.Total` já estão no formato numérico correto. A padronização (scaling) dessas variáveis será feita em uma etapa posterior, durante a fase de modelagem. \n",
    "\n",
    "**Motivo:** A padronização deve ser \"aprendida\" (fitted) apenas no conjunto de treino e depois aplicada ao conjunto de teste para evitar vazamento de dados (data leakage), garantindo que o modelo seja avaliado em dados verdadeiramente \"novos\"."
   ]
  },
  {
   "cell_type": "markdown",
   "metadata": {},
   "source": [
    "### 6. Salvando o Dataset Final Pré-processado\n",
    "\n",
    "O DataFrame agora está totalmente codificado e pronto para a modelagem. Vamos salvá-lo em um novo arquivo."
   ]
  },
  {
   "cell_type": "code",
   "execution_count": 13,
   "metadata": {},
   "outputs": [
    {
     "name": "stdout",
     "output_type": "stream",
     "text": [
      "Dataset final pré-processado e salvo com sucesso em: E:\\Documentos\\Cursos\\Alura\\ONE\\Desafio-03\\telecom_x_processed.csv\n",
      "Dimensões finais: (7043, 30)\n"
     ]
    }
   ],
   "source": [
    "caminho_final = r'E:\\Documentos\\Cursos\\Alura\\ONE\\Desafio-03\\telecom_x_processed.csv'\n",
    "\n",
    "df.to_csv(caminho_final, index=False)\n",
    "\n",
    "print(f\"Dataset final pré-processado e salvo com sucesso em: {caminho_final}\")\n",
    "print(f\"Dimensões finais: {df.shape}\")"
   ]
  }
 ],
 "metadata": {
  "kernelspec": {
   "display_name": ".venv",
   "language": "python",
   "name": "python3"
  },
  "language_info": {
   "codemirror_mode": {
    "name": "ipython",
    "version": 3
   },
   "file_extension": ".py",
   "mimetype": "text/x-python",
   "name": "python",
   "nbconvert_exporter": "python",
   "pygments_lexer": "ipython3",
   "version": "3.13.1"
  }
 },
 "nbformat": 4,
 "nbformat_minor": 4
}
